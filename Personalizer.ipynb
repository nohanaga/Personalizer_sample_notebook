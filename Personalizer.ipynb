{
 "cells": [
  {
   "cell_type": "markdown",
   "metadata": {},
   "source": [
    "# Cognitive Services Personalizer \n",
    "https://github.com/Azure-Samples/cognitive-services-personalizer-samples の日本語訳です。"
   ]
  },
  {
   "cell_type": "markdown",
   "metadata": {},
   "source": [
    "このチュートリアルでは、顧客がどのタイプのコーヒーを注文すべきかを提案する Personalizer ループシステム をシミュレートしています。ユーザーとその好みは、[user dataset](users.json)に保存されます。コーヒーに関する情報は、[coffee dataset](coffee.json)にも格納されています。"
   ]
  },
  {
   "cell_type": "markdown",
   "metadata": {},
   "source": [
    "このノートブックは、ユーザーが Web サイトで行う対話操作をシミュレートし、データセットからランダムなユーザー、時間帯、天気の種類を選択します。 ユーザー情報の概要は次のとおりです。\n",
    "\n",
    "|顧客  コンテキスト|時間帯|天気|\n",
    "|--|--|--|\n",
    "|Alice<br>Bob<br>Cathy<br>Dave|朝<br>午後<br>夜|晴れ<br>雨<br>雪| \n",
    "\n",
    "Personalizer が時間の経過と共に学習できるよう、この \"システム\" は各人物のコーヒーの選択に関する情報も把握しています。\n",
    "\n",
    "|コーヒー - アクションの特徴|温度の種類|原産地|焙煎の種類|オーガニック|\n",
    "|--|--|--|--|--|\n",
    "|カプチーノ|ホット|ケニア|深煎り|オーガニック|\n",
    "|コールド ブリュー|アイス|ブラジル|浅煎り|オーガニック|\n",
    "|アイス モカ|アイス|エチオピア|浅煎り|オーガニックでない|\n",
    "|ラテ|ホット|ブラジル|深煎り|オーガニックでない|\n",
    " \n",
    "Personalizer ループの**目的**は、できるだけ多くの場合にユーザーと最も相性の良いコーヒーを見つけることです。\n",
    "このチュートリアルのコードは、[Personalizer Samples GitHub リポジトリ](https://github.com/Azure-Samples/cognitive-services-personalizer-samples/blob/master/samples/azurenotebook/Personalizer.ipynb)にあります。"
   ]
  },
  {
   "cell_type": "markdown",
   "metadata": {},
   "source": [
    "## シミュレーションの仕組み\n",
    "\n",
    "実行中のシステムの開始時点では、Personalizer からの提案がうまくいくのはたった 20% から 30% です。 この成功は、Personalizer の Reward API に返される報酬 (スコアは 1) によって示されます。 いくつかの Rank と Reward の呼び出しの後、システムは改善されます。\n",
    "\n",
    "最初の 10,000 リクエストの後、オフライン評価を実行します。これにより、Personalizer がデータを見直し、より良い学習ポリシーを提案することができます。新しい学習ポリシーを適用し、2,000 リクエストでノートを再度実行します。ループのパフォーマンスが向上します。"
   ]
  },
  {
   "cell_type": "markdown",
   "metadata": {},
   "source": [
    "## ランク(Rank)と報酬(Reward)の呼び出し\n",
    "\n",
    "Personalizer サービスへの数千回の呼び出しごとに、ノートブックは **Rank** リクエストを REST API に送信します。\n",
    "\n",
    "* ランクまたはリクエストイベントの一意のID\n",
    "* コンテキスト: ランダムに選択したユーザー、天気、時間帯 - ウェブサイトやモバイルデバイス上のユーザーをシミュレートします。\n",
    "* アクションと特徴量: Personalizer が提案する際に基づく \"すべて\" のコーヒーデータ\n",
    "\n",
    "システムは、コーヒーの選択肢のランクを受け取り、その予測と、同じ時間帯と天候についてのユーザーの既知の選択肢を比較します。既知の選択肢が予測された選択肢と同じであれば、 **Reward** 1 が Personalizer に送られます。そうでない場合、報酬は 0 です。\n",
    "\n",
    "> [!注意]\n",
    "> これはシミュレーションなので、報酬のアルゴリズムはシンプルです。実際のシナリオでは、このアルゴリズムは、報酬スコアを決定するためにビジネス ロジックを使用する必要があります (場合によっては、顧客の経験のさまざまな側面に対する重みが使用されます)。"
   ]
  },
  {
   "cell_type": "markdown",
   "metadata": {},
   "source": [
    "## 前提条件\n",
    "\n",
    "* [Azure Personalizer リソース](https://ms.portal.azure.com/#create/Microsoft.CognitiveServicesPersonalizer) \n",
    "    * すでにPersonalizerリソースを使用している場合は、そのリソースの Azure ポータルで[データをクリア](https://docs.microsoft.com/en-us/azure/cognitive-services/personalizer/how-to-settings#clear-data-for-your-learning-loop)してください。\n",
    "\n",
    "* Jupyter Notebook"
   ]
  },
  {
   "cell_type": "markdown",
   "metadata": {},
   "source": [
    "ファイルの説明。\n",
    "\n",
    "* [Personalizer.ipynb](Personalization.ipynb) は、このチュートリアルのための Jupyter ノートブックです。\n",
    "* [User dataset](users.json) は JSON オブジェクトに格納されています。\n",
    "* [Coffee dataset](coffee.json) は JSON オブジェクトに格納されています。\n",
    "* [リクエスト例JSON](example-rankrequest.json) は、Rank API への POST リクエスト用のフォーマットです。\n"
   ]
  },
  {
   "cell_type": "markdown",
   "metadata": {},
   "source": [
    "## パーソナルサイザーリソースの設定\n",
    "\n",
    "Azure ポータルで、[Personalizer リソース](https://ms.portal.azure.com/#create/Microsoft.CognitiveServicesPersonalizer) を設定し、**モデルの更新頻度** を **15秒** に設定し、**報酬の待機時間**を **15秒** に設定します。これらの設定は、[構成]タブの[リソース管理]セクションにあります。\n",
    "\n",
    "|設定|値|\n",
    "|--|--|\n",
    "|モデルの更新頻度|15 秒|\n",
    "|報酬の待機時間|15 秒|\n",
    "\n",
    "これらの値は、このチュートリアルで変化を示すために非常に短い期間に設定しています。これらの値は、Personalizer ループで目標を達成していることを確認しない限り、本番環境では使用しないでください。"
   ]
  },
  {
   "cell_type": "markdown",
   "metadata": {},
   "source": [
    "## Jupyter Notebook を設定する\n",
    "\n",
    "1. カーネルを `Python 3.6` に変更します。\n",
    "1. `Personalizer.ipynb` ファイルを開きます。\n"
   ]
  },
  {
   "cell_type": "markdown",
   "metadata": {},
   "source": [
    "## ノートブックのセルを実行\n",
    "\n",
    "各実行可能セルを実行して、結果が返るまで待ちます。\n",
    "\n",
    "セルの隣の括弧に `*` の代わりに数字が表示されれば、実行が完了したことがわかります。エラーが出た場合は続行しないでください。\n",
    "\n",
    "以降のセクションでは、各セルがプログラムで実行する内容と出力に期待する内容について説明します。"
   ]
  },
  {
   "cell_type": "markdown",
   "metadata": {},
   "source": [
    "### Python モジュールを読み込む\n",
    "\n",
    "必要な Python モジュールを含めます。セルには出力がありません。"
   ]
  },
  {
   "cell_type": "code",
   "execution_count": 1,
   "metadata": {},
   "outputs": [],
   "source": [
    "import json\n",
    "import matplotlib.pyplot as plt\n",
    "import random \n",
    "import requests\n",
    "import time\n",
    "import uuid\n",
    "import datetime"
   ]
  },
  {
   "cell_type": "markdown",
   "metadata": {},
   "source": [
    "### Personalizer のリソースキーと名前を設定する\n",
    "\n",
    "Azure ポータルから、Personalizer リソースの**キーとエンドポイント**メニューから、キーとエンドポイントを見つけます。`<your-resource-name>` の値をPersonalizer リソースの名前に変更します。`<your-resource-key>` の値を Personalizer のキーに変更してください。\n",
    "\n",
    "セルには何も出力されません。"
   ]
  },
  {
   "cell_type": "code",
   "execution_count": 9,
   "metadata": {},
   "outputs": [],
   "source": [
    "# 'personalization_base_url'と 'resource_key' を有効なエンドポイント値に置き換えます。\n",
    "personalization_base_url = \"https://<your-resource-name>.cognitiveservices.azure.com/\"\n",
    "resource_key = \"<your-resource-key>\""
   ]
  },
  {
   "cell_type": "markdown",
   "metadata": {},
   "source": [
    "### 現在のデータと時間を出力\n",
    "\n",
    "反復関数 `iterations` の開始時刻と終了時刻を記録するには、この関数を用いる。\n",
    "\n",
    "これらのセルには出力がありません。この関数が呼び出されると、現在の日付と時刻が出力されます。"
   ]
  },
  {
   "cell_type": "code",
   "execution_count": 5,
   "metadata": {},
   "outputs": [],
   "source": [
    "# 現在の日付を出力する\n",
    "def currentDateTime():\n",
    "    currentDT = datetime.datetime.now()\n",
    "    print (str(currentDT))"
   ]
  },
  {
   "cell_type": "markdown",
   "metadata": {},
   "source": [
    "### 最終モデルの更新日時を取得\n",
    "\n",
    "関数 `get_last_updated` が呼び出されると、モデルが最後に更新された日時を出力します。\n",
    "\n",
    "これらのセルは出力されません。この関数が呼び出されると、最後のモデル学習日が出力されます。\n",
    "\n",
    "この関数は GET REST API を利用して[モデルのプロパティを取得](https://westus2.dev.cognitive.microsoft.com/docs/services/personalizer-api/operations/GetModelProperties)しています。\n"
   ]
  },
  {
   "cell_type": "code",
   "execution_count": 10,
   "metadata": {},
   "outputs": [],
   "source": [
    "# モデルの最終更新日のための変数を初期化します。\n",
    "modelLastModified = \"\""
   ]
  },
  {
   "cell_type": "code",
   "execution_count": 11,
   "metadata": {},
   "outputs": [],
   "source": [
    "def get_last_updated(currentModifiedDate):\n",
    "    \n",
    "    print('-----checking model')\n",
    "    \n",
    "    # モデルプロパティの取得\n",
    "    response = requests.get(personalization_model_properties_url, headers = headers, params = None)\n",
    "    \n",
    "    print(response)\n",
    "    print(response.json())\n",
    "    \n",
    "    # lastModifiedTimeを取得\n",
    "    lastModifiedTime = json.dumps(response.json()[\"lastModifiedTime\"])\n",
    "    \n",
    "    if (currentModifiedDate != lastModifiedTime):\n",
    "        currentModifiedDate = lastModifiedTime\n",
    "        print(f'-----model updated: {lastModifiedTime}')"
   ]
  },
  {
   "cell_type": "markdown",
   "metadata": {},
   "source": [
    "### ポリシーとサービスの設定を取得\n",
    "\n",
    "これら 2 つの REST コールでサービスの状態を検証します。\n",
    "\n",
    "これらのセルには出力がありません。この関数は呼ばれたときにサービスの設定を出力します。"
   ]
  },
  {
   "cell_type": "code",
   "execution_count": 13,
   "metadata": {},
   "outputs": [],
   "source": [
    "def get_service_settings():\n",
    "    \n",
    "    print('-----checking service settings')\n",
    "    \n",
    "    # 学習ポリシーを取得する\n",
    "    response = requests.get(personalization_model_policy_url, headers = headers, params = None)\n",
    "    \n",
    "    print(response)\n",
    "    print(response.json())\n",
    "    \n",
    "    # サービス設定を取得する\n",
    "    response = requests.get(personalization_service_configuration_url, headers = headers, params = None)\n",
    "    \n",
    "    print(response)\n",
    "    print(response.json())\n"
   ]
  },
  {
   "cell_type": "markdown",
   "metadata": {},
   "source": [
    "### REST 呼び出し用の URL を構築し、JSON データファイルを読み込む\n",
    "\n",
    "このセルは次を実行します。\n",
    "\n",
    "* REST 呼び出しで使用される URL を構築します。\n",
    "* Personalizer のリソースキーを使用してセキュリティヘッダを設定します。\n",
    "* Rank イベント ID のランダムシードを設定します。\n",
    "* JSON データファイルを読み込む\n",
    "* `get_last_updated` メソッドを呼び出す (出力例では、学習ポリシーが削除されています)\n",
    "* `get_service_settings` メソッドを呼び出します。\n",
    "\n",
    "セルには、関数 `get_last_updated` と `get_service_settings` の呼び出しによる出力があります。\n"
   ]
  },
  {
   "cell_type": "code",
   "execution_count": 15,
   "metadata": {
    "scrolled": true
   },
   "outputs": [
    {
     "name": "stdout",
     "output_type": "stream",
     "text": [
      "-----checking model\n",
      "<Response [200]>\n",
      "{'creationTime': '2020-12-10T04:50:52+00:00', 'lastModifiedTime': '2021-01-22T02:51:11+00:00'}\n",
      "-----model updated: \"2021-01-22T02:51:11+00:00\"\n",
      "-----checking service settings\n",
      "<Response [200]>\n",
      "{'name': 'fde432dc01b1471ebc354f49ec319e4f', 'arguments': '--cb_explore_adf --epsilon 0.20000000298023224 --power_t 0 -l 0.001 --cb_type mtr -q ::'}\n",
      "<Response [200]>\n",
      "{'rewardWaitTime': 'PT15S', 'defaultReward': 0.0, 'rewardAggregation': 'earliest', 'explorationPercentage': 0.2, 'modelExportFrequency': 'PT15S', 'logRetentionDays': -1, 'modelAutoPublish': True, 'stagedModelHistoryLength': 10, 'lastConfigurationEditDate': '2021-01-22T02:51:10', 'learningMode': 'Online'}\n",
      "User count 4\n",
      "Coffee count 4\n"
     ]
    }
   ],
   "source": [
    "# URLを構築\n",
    "personalization_rank_url = personalization_base_url + \"personalizer/v1.0/rank\"\n",
    "personalization_reward_url = personalization_base_url + \"personalizer/v1.0/events/\" #add \"{eventId}/reward\"\n",
    "personalization_model_properties_url = personalization_base_url + \"personalizer/v1.0/model/properties\"\n",
    "personalization_model_policy_url = personalization_base_url + \"personalizer/v1.0/configurations/policy\"\n",
    "personalization_service_configuration_url = personalization_base_url + \"personalizer/v1.0/configurations/service\"\n",
    "headers = {'Ocp-Apim-Subscription-Key' : resource_key, 'Content-Type': 'application/json'}\n",
    "\n",
    "# コンテキスト\n",
    "users = \"users.json\"\n",
    "\n",
    "# action features\n",
    "coffee = \"coffee.json\"\n",
    "\n",
    "# ランク要求用の空のJSON\n",
    "requestpath = \"example-rankrequest.json\"\n",
    "\n",
    "# ramdom の初期化\n",
    "random.seed(time.time())\n",
    "\n",
    "userpref = None \n",
    "rankactionsjsonobj = None \n",
    "actionfeaturesobj = None\n",
    "\n",
    "with open(users) as handle:\n",
    "    userpref = json.loads(handle.read())\n",
    "\n",
    "with open(coffee) as handle:\n",
    "    actionfeaturesobj = json.loads(handle.read())\n",
    "    \n",
    "with open(requestpath) as handle:\n",
    "    rankactionsjsonobj = json.loads(handle.read())  \n",
    "    \n",
    "get_last_updated(modelLastModified)\n",
    "get_service_settings()\n",
    "\n",
    "print(f'User count {len(userpref)}')\n",
    "print(f'Coffee count {len(actionfeaturesobj)}')"
   ]
  },
  {
   "cell_type": "markdown",
   "metadata": {},
   "source": [
    "出力の `rewardWaitTime` と `modelExportFrequency` がともに 15秒 に設定されていることを確認してください。\n",
    "    \n",
    "```console\n",
    "-----checking model\n",
    "<Response [200]>\n",
    "{'creationTime': '0001-01-01T00:00:00+00:00', 'lastModifiedTime': '0001-01-01T00:00:00+00:00'}\n",
    "-----model updated: \"0001-01-01T00:00:00+00:00\"\n",
    "-----checking service settings\n",
    "<Response [200]>\n",
    "{...learning policy...}\n",
    "<Response [200]>\n",
    "{'rewardWaitTime': '00:00:15', 'defaultReward': 0.0, 'rewardAggregation': 'earliest', 'explorationPercentage': 0.2, 'modelExportFrequency': '00:00:15', 'logRetentionDays': -1}\n",
    "User count 4\n",
    "Coffee count 4\n",
    "```\n"
   ]
  },
  {
   "cell_type": "markdown",
   "metadata": {},
   "source": [
    "### 最初の REST コールのトラブルシューティング\n",
    "\n",
    "この前のセルは、Personalizer に呼び出す最初のセルです。出力される REST ステータスコードが `<Response [200]>` であることを確認してください。404 などのエラーが出ても、リソースキーと名前が正しいことを確認したら、ノートブックをリロードします。\n",
    "\n",
    "コーヒーのカウントとユーザー数が両方とも **4** になっていることを確認し、エラーが出た場合は、3 つの JSON ファイルをすべてアップロードしたことを確認してください。"
   ]
  },
  {
   "cell_type": "markdown",
   "metadata": {},
   "source": [
    "### Azure ポータルでメトリックグラフを設定する\n",
    "\n",
    "このチュートリアルの後半では、10,000 リクエストのロングラン処理をブラウザから更新テキストボックスで見ることができます。長時間実行中のプロセスが終了したときに、グラフや合計で見るとわかりやすいかもしれません。この情報を表示するには、リソースで提供されているメトリクスを使用します。サービスへのリクエストを完了した時点でグラフを作成し、長期実行プロセスが進行している間は定期的にグラフを更新することができます。\n",
    "\n",
    "1. Azure ポータルで、Personalizer リソースを選択します。\n",
    "1. リソースナビゲーションで、監視の下の **メトリック** を選択します。\n",
    "1. グラフで、**メトリックの追加** を選択します。\n",
    "1. リソースとメトリック名前空間はすでに設定されています。必要なのは、**Successful Calls** のメトリックと **合計** の集計だけです。\n",
    "1. 時間フィルタを過去 4 時間に変更します。\n",
    "\n",
    "![直近 4 時間の成功した呼び出し用のメトリックを追加して、Azure portal でメトリック グラフを設定します。](./media/metric-chart-setting.png)\n",
    "\n",
    "チャートに 3 つの成功したコールが表示されるはずです。"
   ]
  },
  {
   "cell_type": "markdown",
   "metadata": {},
   "source": [
    "### 固有のイベントIDを生成する\n",
    "\n",
    "この関数は、ランクコールごとに固有の ID を生成します。この ID は、ランクと報酬の呼び出し情報を識別するために使用されます。この値は、Web ビュー ID やトランザクション ID などのビジネスプロセスから生成される可能性があります。\n",
    "\n",
    "セルには出力がありません。この関数は、呼び出されたときに一意の ID を出力します。"
   ]
  },
  {
   "cell_type": "code",
   "execution_count": 16,
   "metadata": {},
   "outputs": [],
   "source": [
    "def add_event_id(rankjsonobj):\n",
    "    eventid = uuid.uuid4().hex\n",
    "    rankjsonobj[\"eventId\"] = eventid\n",
    "    return eventid"
   ]
  },
  {
   "cell_type": "markdown",
   "metadata": {},
   "source": [
    "### ランダムなユーザー、天気、時間帯を取得する\n",
    "\n",
    "この関数は、ユニークなユーザー、天気、時間帯を選択し、それらの項目を JSON オブジェクトに追加して Rank リクエストに送信します。\n",
    "\n",
    "セルには何も出力されません。この関数が呼び出されると、ランダムなユーザー名、ランダムな天気、ランダムな時間帯が返されます。\n",
    "\n",
    "4人のユーザーのリストとその設定 - 簡潔にするためにいくつかの設定のみを表示しています。\n",
    "\n",
    "```json\n",
    "{\n",
    "  \"Alice\": {\n",
    "    \"Sunny\": {\n",
    "      \"Morning\": \"Cold brew\",\n",
    "      \"Afternoon\": \"Iced mocha\",\n",
    "      \"Evening\": \"Cold brew\"\n",
    "    }...\n",
    "  },\n",
    "  \"Bob\": {\n",
    "    \"Sunny\": {\n",
    "      \"Morning\": \"Cappucino\",\n",
    "      \"Afternoon\": \"Iced mocha\",\n",
    "      \"Evening\": \"Cold brew\"\n",
    "    }...\n",
    "  },\n",
    "  \"Cathy\": {\n",
    "    \"Sunny\": {\n",
    "      \"Morning\": \"Latte\",\n",
    "      \"Afternoon\": \"Cold brew\",\n",
    "      \"Evening\": \"Cappucino\"\n",
    "    }...\n",
    "  },\n",
    "  \"Dave\": {\n",
    "    \"Sunny\": {\n",
    "      \"Morning\": \"Iced mocha\",\n",
    "      \"Afternoon\": \"Iced mocha\",\n",
    "      \"Evening\": \"Iced mocha\"\n",
    "    }...\n",
    "  }\n",
    "}\n",
    "```"
   ]
  },
  {
   "cell_type": "code",
   "execution_count": 17,
   "metadata": {},
   "outputs": [],
   "source": [
    "def add_random_user_and_contextfeatures(namesoption, weatheropt, timeofdayopt, rankjsonobj):   \n",
    "    name = namesoption[random.randint(0,3)]\n",
    "    weather = weatheropt[random.randint(0,2)]\n",
    "    timeofday = timeofdayopt[random.randint(0,2)]\n",
    "    rankjsonobj['contextFeatures'] = [{'timeofday': timeofday, 'weather': weather, 'name': name}]\n",
    "    return [name, weather, timeofday]"
   ]
  },
  {
   "cell_type": "markdown",
   "metadata": {},
   "source": [
    "\n",
    "### すべてのコーヒーデータを追加\n",
    "\n",
    "この関数は、Rank リクエストに送信する JSON オブジェクトにコーヒーのリスト全体を追加します。\n",
    "\n",
    "セルには何も出力されません。この関数が呼び出されると `rankjsonobj` が変更されます。\n",
    "\n",
    "\n",
    "コーヒーの特徴を1つにまとめた例です。\n",
    "\n",
    "```json\n",
    "{\n",
    "    \"id\": \"Cappucino\",\n",
    "    \"features\": [\n",
    "    {\n",
    "        \"type\": \"hot\",\n",
    "        \"origin\": \"kenya\",\n",
    "        \"organic\": \"yes\",\n",
    "        \"roast\": \"dark\"\n",
    "        \n",
    "    }\n",
    "}\n",
    "```"
   ]
  },
  {
   "cell_type": "code",
   "execution_count": 18,
   "metadata": {},
   "outputs": [],
   "source": [
    "def add_action_features(rankjsonobj):\n",
    "    rankjsonobj[\"actions\"] = actionfeaturesobj"
   ]
  },
  {
   "cell_type": "markdown",
   "metadata": {},
   "source": [
    "### Rank API の予測と既知のユーザーの好みを比較する\n",
    "\n",
    "この関数は、Rank API が呼び出された後に、各イテレーションごとに呼び出されます。\n",
    "\n",
    "この関数は、天気や時間帯に基づいたユーザーのコーヒーの好みと、それらのフィルターに対するパーソナライザの提案を比較します。候補が一致した場合はスコアが 1、そうでない場合はスコアが 0 となります。\n",
    "\n",
    "セルには何も出力されません。この関数は、呼び出されたときにスコアを出力します。"
   ]
  },
  {
   "cell_type": "code",
   "execution_count": 19,
   "metadata": {},
   "outputs": [],
   "source": [
    "def get_reward_from_simulated_data(name, weather, timeofday, prediction):\n",
    "    if(userpref[name][weather][timeofday] == str(prediction)):\n",
    "        return 1 \n",
    "    return 0"
   ]
  },
  {
   "cell_type": "markdown",
   "metadata": {},
   "source": [
    "### ランクと報酬への呼び出しをループする\n",
    "\n",
    "次のセルはノートブックの主な作業で、ランダムなユーザーを取得し、コーヒーリストを取得し、両方を Rank API に送信します。予測とユーザーの好みを比較し、報酬をパーソナライズサービスに送り返します。\n",
    "\n",
    "このループは `num_requests` 回分実行されます。Personalizer はモデルを作成するために Rank と Reward を数千回呼び出す必要があります。\n",
    "\n",
    "Rank API に送られる JSON の例は以下の通りです。簡潔のため、コーヒーのリストは完全ではありません。コーヒーの JSON 全体は `coffee.json` で見ることができます。\n",
    "\n",
    "\n",
    "\n",
    "```json\n",
    "{ \n",
    "   'contextFeatures':[ \n",
    "      { \n",
    "         'timeofday':'Evening',\n",
    "         'weather':'Snowy',\n",
    "         'name':'Alice'\n",
    "      }\n",
    "   ],\n",
    "   'actions':[ \n",
    "      { \n",
    "         'id':'Cappucino',\n",
    "         'features':[ \n",
    "            { \n",
    "               'type':'hot',\n",
    "               'origin':'kenya',\n",
    "               'organic':'yes',\n",
    "               'roast':'dark'\n",
    "            }\n",
    "         ]\n",
    "      }\n",
    "        ...残りのコーヒーリスト\n",
    "   ],\n",
    "   'excludedActions':[ \n",
    "\n",
    "   ],\n",
    "   'eventId':'b5c4ef3e8c434f358382b04be8963f62',\n",
    "   'deferActivation':False\n",
    "}\n",
    "```\n",
    "\n",
    "Rank API に送信される JSON:\n",
    "\n",
    "```console\n",
    "{'contextFeatures': [{'timeofday': 'Morning', 'weather': 'Sunny', 'name': 'Bob'}], 'actions': [{'id': 'Cappucino', 'features': [{'type': 'hot', 'origin': 'kenya', 'organic': 'yes', 'roast': 'dark'}]}, {'id': 'Cold brew', 'features': [{'type': 'cold', 'origin': 'brazil', 'organic': 'yes', 'roast': 'light'}]}, {'id': 'Iced mocha', 'features': [{'type': 'cold', 'origin': 'ethiopia', 'organic': 'no', 'roast': 'light'}]}, {'id': 'Latte', 'features': [{'type': 'hot', 'origin': 'brazil', 'organic': 'no', 'roast': 'dark'}]}], 'excludedActions': [], 'eventId': '5001bcfe3bb542a1a238e6d18d57f2d2', 'deferActivation': False}\n",
    "```\n",
    "\n",
    "Rank API からの JSON レスポンス:\n",
    "\n",
    "```\n",
    "{\n",
    "    'ranking': [\n",
    "        {'id': 'Latte', 'probability': 0.85 },\n",
    "        {'id': 'Iced mocha', 'probability': 0.05 },\n",
    "        {'id': 'Cappucino', 'probability': 0.05 },\n",
    "        {'id': 'Cold brew', 'probability': 0.05 }\n",
    "    ], \n",
    "    'eventId': '5001bcfe3bb542a1a238e6d18d57f2d2', \n",
    "    'rewardActionId': 'Latte'\n",
    "}\n",
    "```\n",
    "\n",
    "最後に、各ループは、ユーザー、天候、時間帯、および決定された報酬のランダムな選択を示しています。報酬が 1 の場合は、Personalizer リソースがユーザー、天気、時間帯に応じた正しいコーヒーの種類を選択したことを示します。\n",
    "\n",
    "```console\n",
    "1 Alice Rainy Morning Latte 1\n",
    "```\n",
    "\n",
    "この関数では、以下を使用します。\n",
    "\n",
    "* Rank: [ランクを取得する](https://westus2.dev.cognitive.microsoft.com/docs/services/personalizer-api/operations/Rank)ための POST REST API。\n",
    "* Reward: [報酬をレポートする](https://westus2.dev.cognitive.microsoft.com/docs/services/personalizer-api/operations/Reward)ための POST REST API。"
   ]
  },
  {
   "cell_type": "code",
   "execution_count": 20,
   "metadata": {},
   "outputs": [],
   "source": [
    "def iterations(n, modelCheck, jsonFormat):\n",
    "\n",
    "    i = 1\n",
    "    \n",
    "    # デフォルトの報酬値 - 予測に失敗したと仮定\n",
    "    reward = 0\n",
    "\n",
    "    # Print out dateTime\n",
    "    #currentDateTime()\n",
    "\n",
    "    # 結果を集めてグラフに集約する\n",
    "    total = 0\n",
    "    rewards = []\n",
    "    count = []\n",
    "\n",
    "    # ユーザー、天気、時間帯のデフォルトリスト\n",
    "    namesopt = ['Alice', 'Bob', 'Cathy', 'Dave']\n",
    "    weatheropt = ['Sunny', 'Rainy', 'Snowy']\n",
    "    timeofdayopt = ['Morning', 'Afternoon', 'Evening']\n",
    "    \n",
    "    \n",
    "    while(i <= n):\n",
    "\n",
    "        # イベントに関連付けるためのユニークなIDを作成します\n",
    "        eventid = add_event_id(jsonFormat)\n",
    "\n",
    "        # ランダムにサンプルを生成する\n",
    "        [name, weather, timeofday] = add_random_user_and_contextfeatures(namesopt, weatheropt, timeofdayopt, jsonFormat)\n",
    "\n",
    "        # ランクにアクション特徴量を追加する\n",
    "        add_action_features(jsonFormat) \n",
    "\n",
    "        # ランクに送るJSONを表示する\n",
    "        #print('To: ', jsonFormat)    \n",
    "\n",
    "        # アクションを選択する - Personalizerから予測を得る\n",
    "        response = requests.post(personalization_rank_url, headers = headers, params = None, json = jsonFormat)\n",
    "\n",
    "        # ランク予測を表示\n",
    "        #print ('From: ',response.json())    \n",
    "\n",
    "        # Personalizer サービスのレコメンデーションをシミュレーションデータと比較し、報酬値を生成する\n",
    "        prediction = json.dumps(response.json()[\"rewardActionId\"]).replace('\"','')\n",
    "        reward = get_reward_from_simulated_data(name, weather, timeofday, prediction)\n",
    "\n",
    "        # 反復結果を表示\n",
    "        print(f'   {i} {currentDateTime()} {name} {weather} {timeofday} {prediction} {reward} ')\n",
    "\n",
    "        # サービスに報酬を送る\n",
    "        response = requests.post(personalization_reward_url + eventid + \"/reward\", headers = headers, params= None, json = { \"value\" : reward })\n",
    "\n",
    "        # ランクリクエストNごとに、合計を正しく計算します\n",
    "        total = total + reward\n",
    "\n",
    "        # N回の反復ごとに、最後に更新されたモデルの日付と時刻を取得します\n",
    "        if(i % modelCheck == 0):\n",
    "\n",
    "            print(\"**** 10% of loop found\")\n",
    "            get_last_updated(modelLastModified) \n",
    "\n",
    "        # 集計してグラフを読みやすくする\n",
    "        if(i % 100 == 0):\n",
    "            print(\"**** aggregating rewards\")\n",
    "            rewards.append(total)\n",
    "            count.append(i)\n",
    "            total = 0\n",
    "\n",
    "        i = i + 1\n",
    "        \n",
    "    # dateTimeを出力します\n",
    "    #currentDateTime()\n",
    "    \n",
    "    return [count, rewards]"
   ]
  },
  {
   "cell_type": "markdown",
   "metadata": {},
   "source": [
    "## 10,000回の繰り返しを実行\n",
    "\n",
    "Personalizer ループを 10,000回 繰り返し実行します。これは長時間の実行です。ノートブックを実行しているブラウザを閉じないでください。Azureポータルのメトリクスチャートを定期的に更新して、サービスへの総コール数を確認します。ループの繰り返しごとにランクと報酬のコールである 20,000 コール程度になったら、繰り返しは終了です。\n",
    "\n",
    "## 注意\n",
    "10,000 回繰り返すと `4～5` 時間かかりますので注意してください。"
   ]
  },
  {
   "cell_type": "code",
   "execution_count": 1,
   "metadata": {
    "scrolled": true
   },
   "outputs": [],
   "source": [
    "# 最大イテレーション数\n",
    "num_requests = 10000\n",
    "\n",
    "# 最終変更日をN％の時間で確認 - 現在は10％\n",
    "lastModCheck = int(num_requests * .10)\n",
    "\n",
    "jsonTemplate = rankactionsjsonobj\n",
    "\n",
    "# メインイテレーション\n",
    "[count, rewards] = iterations(num_requests, lastModCheck, jsonTemplate)"
   ]
  },
  {
   "cell_type": "markdown",
   "metadata": {},
   "source": [
    "\n",
    "## Personalizer による改善を確認するためのグラフ結果\n",
    "\n",
    "`count`と` rewards`からチャートを作成します。"
   ]
  },
  {
   "cell_type": "code",
   "execution_count": 24,
   "metadata": {},
   "outputs": [],
   "source": [
    "def createChart(x, y):\n",
    "    plt.plot(x, y)\n",
    "    plt.xlabel(\"Batch of rank events\")\n",
    "    plt.ylabel(\"Correct recommendations per batch\")\n",
    "    plt.show()"
   ]
  },
  {
   "cell_type": "markdown",
   "metadata": {},
   "source": [
    "## 10,000ランクリクエストのグラフを実行\n",
    "\n",
    "関数 `createChart` を実行する。"
   ]
  },
  {
   "cell_type": "code",
   "execution_count": 25,
   "metadata": {},
   "outputs": [
    {
     "data": {
      "image/png": "[encoded data removed]",
      "text/plain": [
       "<Figure size 432x288 with 1 Axes>"
      ]
     },
     "metadata": {
      "needs_background": "light"
     },
     "output_type": "display_data"
    }
   ],
   "source": [
    "createChart(count, rewards)"
   ]
  },
  {
   "cell_type": "markdown",
   "metadata": {},
   "source": [
    "## チャートを読む\n",
    "\n",
    "このグラフは、現在のデフォルトの学習ポリシーでのモデルの成功率を示しています。\n",
    "\n",
    "![このグラフには、テスト期間中に現在の学習ポリシーが成功したことが示されています。](./media/azure-notebook-chart-results.png)\n",
    "\n",
    "\n",
    "理想的な目標は、テストが終了するまでに、このループの平均成功率が **100%** から探索を差し引いた割合に近くなることです。探索の既定値は **20%** です。\n",
    "\n",
    "`100-20=80`\n",
    "\n",
    "この探索値は、Azure ポータルの Personalizer リソースの [構成] ページで確認できます。\n",
    "\n",
    "Rank API へのデータをもとに、より良い学習ポリシーを見つけるためには、Personalizer ループのポータルで[オフライン評価](https://docs.microsoft.com/ja-jp/azure/cognitive-services/personalizer/how-to-offline-evaluation)を実行してください。\n",
    "\n",
    "\n"
   ]
  },
  {
   "cell_type": "markdown",
   "metadata": {},
   "source": [
    "## オフライン評価の実行\n",
    "\n",
    "1. Azure ポータルで、Personalizer リソースの **評価** ページを開きます。\n",
    "1. **評価の作成**を選択します。\n",
    "1. ループ評価の評価名と日付範囲の必要なデータを入力します。日付範囲には、評価に重点を置いている日のみを含める必要があります。\n",
    "\n",
    "    ![Azure portal で、Personalizer リソースの [評価] ページを開きます。 [評価の作成] を選択します。 評価名と日付範囲を入力します。](./media/create-offline-evaluation.png)\n",
    "\n",
    "このオフライン評価を実行する目的は、このループで使用される特徴量とアクションに対して、より良い学習ポリシーがあるかどうかを判断することです。より良い学習ポリシーを見つけるには、**[最適化の検出]** がオンになっていることを確認してください。\n",
    "\n",
    "1. **OK** を選択して評価を開始します。\n",
    "1. この**評価**ページには、新しい評価と現在のステータスが表示されます。データの量によっては、この評価に時間がかかる場合があります。数分後にこのページに戻り、結果を確認することができます。\n",
    "1. 評価が完了したら、評価を選択して、**さまざまな学習ポリシーの比較**を選択します。これは、利用可能な学習ポリシーと、それらがデータを使ってどのように動作するかを示しています。\n",
    "1. 表の中で一番上の学習ポリシーを選択し、**適用**を選択します。これにより、\"最適な\" 学習ポリシーがモデルに適用され、再トレーニングが行われます。"
   ]
  },
  {
   "cell_type": "markdown",
   "metadata": {},
   "source": [
    "## モデルの更新頻度を5分に変更\n",
    "\n",
    "1. Azure ポータルで、Personalizer リソース上で、リソース管理セクションの下の構成タブを選択します。\n",
    "1. **モデルの更新頻度**と**報酬の待機時間**を **5分** に変更し、**保存**を選択します。\n",
    "\n",
    "[報酬の待機時間](https://docs.microsoft.com/azure/cognitive-services/personalizer/concept-rewards#reward-wait-time)、[モデルの更新頻度](https://docs.microsoft.com/azure/cognitive-services/personalizer/how-to-settings#model-update-frequency)についてはこちらをご覧ください。\n"
   ]
  },
  {
   "cell_type": "code",
   "execution_count": 26,
   "metadata": {},
   "outputs": [
    {
     "name": "stdout",
     "output_type": "stream",
     "text": [
      "-----checking service settings\n",
      "<Response [200]>\n",
      "{'name': 'fde432dc01b1471ebc354f49ec319e4f', 'arguments': '--cb_explore_adf --epsilon 0.20000000298023224 --power_t 0 -l 0.001 --cb_type mtr -q ::'}\n",
      "<Response [200]>\n",
      "{'rewardWaitTime': 'PT15S', 'defaultReward': 0.0, 'rewardAggregation': 'earliest', 'explorationPercentage': 0.2, 'modelExportFrequency': 'PT15S', 'logRetentionDays': -1, 'modelAutoPublish': True, 'stagedModelHistoryLength': 10, 'lastConfigurationEditDate': '2021-01-22T02:51:10', 'learningMode': 'Online'}\n"
     ]
    }
   ],
   "source": [
    "# 新しい学習ポリシーと時間を明確にする\n",
    "get_service_settings()"
   ]
  },
  {
   "cell_type": "markdown",
   "metadata": {},
   "source": [
    "出力の `rewardWaitTime` と `modelExportFrequency` がともに 5分 に設定されていることを確認します。\n",
    "\n",
    "```console\n",
    "-----checking model\n",
    "<Response [200]>\n",
    "{'creationTime': '0001-01-01T00:00:00+00:00', 'lastModifiedTime': '0001-01-01T00:00:00+00:00'}\n",
    "-----model updated: \"0001-01-01T00:00:00+00:00\"\n",
    "-----checking service settings\n",
    "<Response [200]>\n",
    "{...learning policy...}\n",
    "<Response [200]>\n",
    "{'rewardWaitTime': '00:05:00', 'defaultReward': 0.0, 'rewardAggregation': 'earliest', 'explorationPercentage': 0.2, 'modelExportFrequency': '00:05:00', 'logRetentionDays': -1}\n",
    "User count 4\n",
    "Coffee count 4\n",
    "```"
   ]
  },
  {
   "cell_type": "markdown",
   "metadata": {},
   "source": [
    "## 2,000回の実験を繰り返して新しい学習ポリシーを検証する\n",
    "\n",
    "ノートブックに戻り、同じループを実行して続行しますが、2,000 回だけ繰り返します。Azure ポータルのメトリクスチャートを定期的に更新して、サービスへの総コール数を確認します。ループの繰り返しごとにランクと報酬のコールである 4,000 コール程度になったら、繰り返しは終了です。"
   ]
  },
  {
   "cell_type": "code",
   "execution_count": 0,
   "metadata": {},
   "outputs": [],
   "source": [
    "# max iterations\n",
    "num_requests = 2000\n",
    "\n",
    "# check last mod date N% of time - currently 10%\n",
    "lastModCheck2 = int(num_requests * .10)\n",
    "\n",
    "jsonTemplate2 = rankactionsjsonobj\n",
    "\n",
    "# main iterations\n",
    "[count2, rewards2] = iterations(num_requests, lastModCheck2, jsonTemplate2)"
   ]
  },
  {
   "cell_type": "markdown",
   "metadata": {},
   "source": [
    "## 2,000ランクリクエストのチャートを実行\n",
    "\n",
    "`createChart`関数を実行します。"
   ]
  },
  {
   "cell_type": "code",
   "execution_count": 0,
   "metadata": {
    "scrolled": true
   },
   "outputs": [],
   "source": [
    "createChart(count2,rewards2)"
   ]
  },
  {
   "cell_type": "markdown",
   "metadata": {},
   "source": [
    "\n",
    "## 2 つ目のグラフを確認する\n",
    "\n",
    "2 つ目のグラフでは、ユーザーの好みに合ったランクの予測が明らかに増加していることが示されます。\n",
    "\n",
    "![2 つ目のグラフでは、ユーザーの好みに合ったランクの予測が明らかに増加していることが示されます。](./media/azure-notebook-chart-results-happy-graph.png)\n"
   ]
  },
  {
   "cell_type": "markdown",
   "metadata": {},
   "source": [
    "## リソースのクリーンアップ\n",
    "\n",
    "チュートリアルシリーズを続行する予定がない場合は、次のリソースをクリーンアップしてください。\n",
    "\n",
    "* Personalizer リソースを削除します。"
   ]
  }
 ],
 "metadata": {
  "kernelspec": {
   "display_name": "Python 3",
   "language": "python",
   "name": "python3"
  },
  "language_info": {
   "codemirror_mode": {
    "name": "ipython",
    "version": 3
   },
   "file_extension": ".py",
   "mimetype": "text/x-python",
   "name": "python",
   "nbconvert_exporter": "python",
   "pygments_lexer": "ipython3",
   "version": "3.8.5"
  }
 },
 "nbformat": 4,
 "nbformat_minor": 2
}